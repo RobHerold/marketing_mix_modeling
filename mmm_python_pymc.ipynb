{
 "cells": [
  {
   "cell_type": "code",
   "execution_count": 2,
   "id": "736809d7",
   "metadata": {},
   "outputs": [],
   "source": [
    "import pandas as pd\n",
    "import numpy as np\n",
    "from pymc_marketing.mmm.transformers import geometric_adstock, logistic_saturation\n",
    "from sklearn.preprocessing import MaxAbsScaler"
   ]
  },
  {
   "cell_type": "code",
   "execution_count": 3,
   "id": "169612df",
   "metadata": {},
   "outputs": [],
   "source": [
    "mmm_data = pd.read_csv('media_mix_model_final_data.csv')"
   ]
  },
  {
   "cell_type": "code",
   "execution_count": 6,
   "id": "062d2276",
   "metadata": {},
   "outputs": [
    {
     "data": {
      "text/plain": [
       "Index(['date_report', 'sp500', 'year', 'week', 'non_restricted_members',\n",
       "       'affiliates', 'apple_search', 'google_search', 'bing_search', 'tiktok',\n",
       "       'spotify', 'pinterest', 'buzzfeed', 'influencer', 'ooh', 'facebook',\n",
       "       'instagram', 'audience_network', 'elle_raise', 'money_cheat_sheet',\n",
       "       'opinionated', 'weekly_events', 'tofu_emails', 'instagram_followers',\n",
       "       'instagram_new_followers', 'instagram_likes', 'instagram_comments',\n",
       "       'Instagram_posts', 'instagram_impressions', 'instagram_reach',\n",
       "       'instagram_bio_clicks', 'facebook_followers', 'facebook_new_followers',\n",
       "       'linkedin_followers', 'linkedin_new_followers', 'twitter_followers',\n",
       "       'twitter_new_followers', 'tiktok_followers', 'tiktok_new_followers',\n",
       "       'campaigns', 'promos', 'campaigns_promos', 'interview',\n",
       "       'other_appearance', 'podcast', 'speaking', 'tv'],\n",
       "      dtype='object')"
      ]
     },
     "execution_count": 6,
     "metadata": {},
     "output_type": "execute_result"
    }
   ],
   "source": [
    "mmm_data.columns"
   ]
  },
  {
   "cell_type": "markdown",
   "id": "c1c2cf5e",
   "metadata": {},
   "source": [
    "Combined columns to reduce variables in model"
   ]
  },
  {
   "cell_type": "code",
   "execution_count": null,
   "id": "ec139fa6",
   "metadata": {},
   "outputs": [],
   "source": [
    "mmm_data[\"paid_facebook\"] = mmm_data[\"paid_facebook\"]"
   ]
  }
 ],
 "metadata": {
  "kernelspec": {
   "display_name": "Python 3",
   "language": "python",
   "name": "python3"
  },
  "language_info": {
   "codemirror_mode": {
    "name": "ipython",
    "version": 3
   },
   "file_extension": ".py",
   "mimetype": "text/x-python",
   "name": "python",
   "nbconvert_exporter": "python",
   "pygments_lexer": "ipython3",
   "version": "3.12.1"
  }
 },
 "nbformat": 4,
 "nbformat_minor": 5
}
