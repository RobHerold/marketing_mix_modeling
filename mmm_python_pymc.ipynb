{
 "cells": [
  {
   "cell_type": "code",
   "execution_count": 52,
   "id": "736809d7",
   "metadata": {},
   "outputs": [],
   "source": [
    "import pandas as pd\n",
    "import numpy as np\n",
    "#from pymc_marketing.mmm.transformers import geometric_adstock, logistic_saturation, MMM\n",
    "from sklearn.preprocessing import MaxAbsScaler\n",
    "import pymc_marketing\n"
   ]
  },
  {
   "cell_type": "code",
   "execution_count": 20,
   "id": "169612df",
   "metadata": {},
   "outputs": [],
   "source": [
    "mmm_data = pd.read_csv('media_mix_model_final_data_daily.csv')"
   ]
  },
  {
   "cell_type": "code",
   "execution_count": 21,
   "id": "062d2276",
   "metadata": {},
   "outputs": [
    {
     "data": {
      "text/plain": [
       "Index(['date_report', 'sp500', 'non_restricted_members', 'affiliates',\n",
       "       'apple_search', 'google_search', 'bing_search', 'tik_tok', 'spotify',\n",
       "       'pinterest', 'buzzfeed', 'influencer', 'ooh', 'audience_network',\n",
       "       'facebook', 'instagram', 'total_paid_spend', 'elle_raise',\n",
       "       'money_cheat_sheet', 'opinionated', 'weekly_events', 'tofu_emails',\n",
       "       'instagram_impressions', 'campaigns', 'promos', 'campaigns_promos',\n",
       "       'interview', 'other_appearance', 'podcast', 'speaking', 'tv',\n",
       "       'sally_opinionated', 'non_restricted_tp', 'google_org', 'meta_app',\n",
       "       'meta_web', 'audience_network_app', 'audience_network_web',\n",
       "       'facebook_app', 'facebook_web', 'instagram_app', 'instagram_web',\n",
       "       'unrestricted_new_member_executive', 'unrestricted_new_member_plus',\n",
       "       'unrestricted_new_member_essential', 'pwm_leads_self_reporting',\n",
       "       'pwm_leads_website', 'pwm_leads'],\n",
       "      dtype='object')"
      ]
     },
     "execution_count": 21,
     "metadata": {},
     "output_type": "execute_result"
    }
   ],
   "source": [
    "mmm_data.columns"
   ]
  },
  {
   "cell_type": "markdown",
   "id": "c1c2cf5e",
   "metadata": {},
   "source": [
    "Combine variables to simplify model and understand impact of overall marketing channel"
   ]
  },
  {
   "cell_type": "code",
   "execution_count": 22,
   "id": "d7c2c0d9",
   "metadata": {},
   "outputs": [],
   "source": [
    "mmm_data['paid_meta'] = mmm_data['instagram'] +  mmm_data['facebook'] + mmm_data['audience_network']\n",
    "mmm_data['newletters'] = mmm_data['money_cheat_sheet'] +  mmm_data['opinionated'] + mmm_data['weekly_events']"
   ]
  },
  {
   "cell_type": "markdown",
   "id": "7d4e0638",
   "metadata": {},
   "source": [
    "Select variables that had impact in original model"
   ]
  },
  {
   "cell_type": "code",
   "execution_count": 23,
   "id": "579bea8d",
   "metadata": {},
   "outputs": [],
   "source": [
    "mmm_data = mmm_data[['date_report', 'non_restricted_members', 'instagram_impressions', 'paid_meta', 'sp500', 'google_search', 'google_org', 'newletters', 'tofu_emails', 'affiliates' ]]"
   ]
  },
  {
   "cell_type": "markdown",
   "id": "99784f7b",
   "metadata": {},
   "source": [
    "Rename variables for clarity "
   ]
  },
  {
   "cell_type": "code",
   "execution_count": 24,
   "id": "4a2ee449",
   "metadata": {},
   "outputs": [],
   "source": [
    "mmm_data = mmm_data.rename(columns={'non_restricted_members': 'new_clients',\n",
    "                                    'instagram_impressions': 'instagram_org'})"
   ]
  },
  {
   "cell_type": "code",
   "execution_count": 25,
   "id": "5e2ed163",
   "metadata": {},
   "outputs": [
    {
     "data": {
      "text/plain": [
       "Index(['date_report', 'new_clients', 'instagram_org', 'paid_meta', 'sp500',\n",
       "       'google_search', 'google_org', 'newletters', 'tofu_emails',\n",
       "       'affiliates'],\n",
       "      dtype='object')"
      ]
     },
     "execution_count": 25,
     "metadata": {},
     "output_type": "execute_result"
    }
   ],
   "source": [
    "mmm_data.columns"
   ]
  },
  {
   "cell_type": "markdown",
   "id": "27ad902e",
   "metadata": {},
   "source": [
    "Select dates to  match original model"
   ]
  },
  {
   "cell_type": "code",
   "execution_count": null,
   "id": "803ae9e9",
   "metadata": {},
   "outputs": [],
   "source": [
    "mmm_data['date_report'] = pd.to_datetime(mmm_data['date_report'] )\n",
    "mmm_data_dates = mmm_data[ (mmm_data['date_report'] >= '2021-07-27') &  (mmm_data['date_report'] <=  '2022-09-24')]\n",
    "print(mmm_data_dates[\"date_report\"].min())\n",
    "print(mmm_data_dates[\"date_report\"].max())"
   ]
  },
  {
   "cell_type": "code",
   "execution_count": 39,
   "id": "33e21116",
   "metadata": {},
   "outputs": [
    {
     "name": "stdout",
     "output_type": "stream",
     "text": [
      "2021-07-27 00:00:00\n",
      "2022-09-24 00:00:00\n"
     ]
    }
   ],
   "source": [
    "print(mmm_data_dates[\"date_report\"].min())\n",
    "print(mmm_data_dates[\"date_report\"].max())"
   ]
  },
  {
   "cell_type": "markdown",
   "id": "29b27fd9",
   "metadata": {},
   "source": [
    "Training the Model"
   ]
  },
  {
   "cell_type": "code",
   "execution_count": 41,
   "id": "f88fa44b",
   "metadata": {},
   "outputs": [],
   "source": [
    "# set date column\n",
    "date_col = 'date_report'\n",
    "\n",
    "# set outcome column\n",
    "y_col = 'new_clients'\n",
    "\n",
    "# set marketing variables\n",
    "channel_cols = ['instagram_org', \n",
    "                'paid_meta', \n",
    "                'google_search', \n",
    "                'google_org', \n",
    "                'newletters', \n",
    "                'tofu_emails',\n",
    "                'affiliates']\n",
    "\n",
    "# set control variables\n",
    "control_cols = ['sp500']\n",
    "\n",
    "# split data into features and target\n",
    "X = mmm_data_dates[[date_col] + channel_cols + control_cols]\n",
    "y = mmm_data_dates[y_col]\n",
    "\n",
    "# set test (out-of-sample) length\n",
    "test_len = 10\n",
    "\n",
    "# create train and test indices\n",
    "train_idx = slice(0, len(mmm_data_dates) - test_len)\n",
    "out_of_time_idx = slice(len(mmm_data_dates) - test_len, len(mmm_data_dates))"
   ]
  },
  {
   "cell_type": "code",
   "execution_count": 53,
   "id": "5bb62145",
   "metadata": {},
   "outputs": [
    {
     "ename": "NameError",
     "evalue": "name 'MMM' is not defined",
     "output_type": "error",
     "traceback": [
      "\u001b[31m---------------------------------------------------------------------------\u001b[39m",
      "\u001b[31mNameError\u001b[39m                                 Traceback (most recent call last)",
      "\u001b[36mCell\u001b[39m\u001b[36m \u001b[39m\u001b[32mIn[53]\u001b[39m\u001b[32m, line 1\u001b[39m\n\u001b[32m----> \u001b[39m\u001b[32m1\u001b[39m mmm_default = \u001b[43mMMM\u001b[49m(\n\u001b[32m      2\u001b[39m     adstock=GeometricAdstock(l_max=\u001b[32m8\u001b[39m),\n\u001b[32m      3\u001b[39m     saturation=LogisticSaturation(),\n\u001b[32m      4\u001b[39m     date_column=date_col,\n\u001b[32m      5\u001b[39m     channel_columns=channel_cols,\n\u001b[32m      6\u001b[39m     control_columns=control_cols,\n\u001b[32m      7\u001b[39m )\n\u001b[32m      9\u001b[39m mmm_default.default_model_config\n",
      "\u001b[31mNameError\u001b[39m: name 'MMM' is not defined"
     ]
    }
   ],
   "source": [
    "mmm_default = MMM(\n",
    "    adstock=GeometricAdstock(l_max=8),\n",
    "    saturation=LogisticSaturation(),\n",
    "    date_column=date_col,\n",
    "    channel_columns=channel_cols,\n",
    "    control_columns=control_cols,\n",
    ")\n",
    "\n",
    "mmm_default.default_model_config"
   ]
  }
 ],
 "metadata": {
  "kernelspec": {
   "display_name": "Python 3",
   "language": "python",
   "name": "python3"
  },
  "language_info": {
   "codemirror_mode": {
    "name": "ipython",
    "version": 3
   },
   "file_extension": ".py",
   "mimetype": "text/x-python",
   "name": "python",
   "nbconvert_exporter": "python",
   "pygments_lexer": "ipython3",
   "version": "3.12.1"
  }
 },
 "nbformat": 4,
 "nbformat_minor": 5
}
